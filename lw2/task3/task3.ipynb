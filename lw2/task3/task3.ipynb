{
 "cells": [
  {
   "cell_type": "code",
   "execution_count": 15,
   "metadata": {},
   "outputs": [
    {
     "name": "stdout",
     "output_type": "stream",
     "text": [
      "snjcnsjcn\n"
     ]
    }
   ],
   "source": [
    "def mymax(iterable, key):\n",
    "  max_x=max_key=None\n",
    "\n",
    "  for x in iterable:\n",
    "\n",
    "    if max_x is None and max_key is None: \n",
    "       max_x = x\n",
    "       max_key = key(x)\n",
    "    if key(x) > max_key:\n",
    "       max_key=key(x)\n",
    "       max_x = x\n",
    "\n",
    "  return max_x\n",
    "\n",
    "f = lambda x: len(x)\n",
    "\n",
    "list_of_strings = ['a', 'b', 'c', 'd', 'e', 'efg','ijk','lmnnnn','snjcnsjcn','cs','scscs']\n",
    "\n",
    "print(mymax(list_of_strings,f))"
   ]
  },
  {
   "cell_type": "markdown",
   "metadata": {},
   "source": [
    "Izmijenite zaglavlje funkcije mymax tako da omogućite njeno pozivanje sa samo jednim argumentom te neka se u tom slučaju kao kriterij koristi uređaj elemenata pobrojivog objekta. Ovu funkcionalnost ostvarite na način da argumentu key podrazumijevano dodijelite funkciju identiteta koju ćete zadati prikladnom neimenovanom funkcijom. "
   ]
  },
  {
   "cell_type": "code",
   "execution_count": 16,
   "metadata": {},
   "outputs": [],
   "source": [
    "def mymax(iterable):\n",
    "   key = lambda x : x\n",
    "   max_x=max_key=None\n",
    "   for x in iterable:\n",
    "      if max_x is None and max_key is None: \n",
    "         max_x = x\n",
    "         max_key = key(x)\n",
    "      if key(x) > max_key:\n",
    "         max_key=key(x)\n",
    "         max_x = x\n",
    "   return max_x\n"
   ]
  },
  {
   "cell_type": "code",
   "execution_count": 17,
   "metadata": {},
   "outputs": [],
   "source": [
    "maxint = mymax([1, 3, 5, 7, 4, 6, 9, 2, 0])\n",
    "maxchar = mymax(\"Suncana strana ulice\")\n",
    "maxstring = mymax([\n",
    "  \"Gle\", \"malu\", \"vocku\", \"poslije\", \"kise\",\n",
    "  \"Puna\", \"je\", \"kapi\", \"pa\", \"ih\", \"njise\"])"
   ]
  },
  {
   "cell_type": "code",
   "execution_count": 18,
   "metadata": {},
   "outputs": [
    {
     "name": "stdout",
     "output_type": "stream",
     "text": [
      "9\n",
      "u\n",
      "vocku\n"
     ]
    }
   ],
   "source": [
    "print(maxint)\n",
    "print(maxchar)\n",
    "print(maxstring)"
   ]
  },
  {
   "cell_type": "code",
   "execution_count": 19,
   "metadata": {},
   "outputs": [],
   "source": [
    "D={'burek':8, 'buhtla':5}"
   ]
  },
  {
   "cell_type": "code",
   "execution_count": 22,
   "metadata": {},
   "outputs": [],
   "source": [
    "B={'burek':8, 'buhtla':5}"
   ]
  },
  {
   "cell_type": "code",
   "execution_count": 20,
   "metadata": {},
   "outputs": [],
   "source": [
    "def mymax(iterable, key):\n",
    "  max_x=max_key=None\n",
    "\n",
    "  for x in iterable:\n",
    "\n",
    "    if max_x is None and max_key is None: \n",
    "       max_x = x\n",
    "       max_key = key(x)\n",
    "    if key(x) > max_key:\n",
    "       max_key=key(x)\n",
    "       max_x = x\n",
    "\n",
    "  return max_x"
   ]
  },
  {
   "cell_type": "code",
   "execution_count": 24,
   "metadata": {},
   "outputs": [
    {
     "name": "stdout",
     "output_type": "stream",
     "text": [
      "burek\n",
      "burek\n"
     ]
    }
   ],
   "source": [
    "print(mymax(iterable = D, key = D.get))\n",
    "\n",
    "#ali i : \n",
    "print(mymax(iterable = B, key = D.get))"
   ]
  },
  {
   "cell_type": "markdown",
   "metadata": {},
   "source": [
    "ZAŠTO MOŽEMO KORISTITI GET NA OVAJ NAČIN: jer funkcija u Pythonu nije čvrsto vezana uz objekt nad kojim se poziva, odnosno moguće je odvajati funkcije od objekta i koristiti ih nezavisno. \n",
    "KAKO: D.get je get funkcija nad dict objektom, a ne esplicitno funkcija nad objektom D koji je  dictionary"
   ]
  },
  {
   "cell_type": "code",
   "execution_count": 28,
   "metadata": {},
   "outputs": [],
   "source": [
    "list_of_persons = [('mark','twain'),('alan','watts'),('alan','turing'),('nikola','tesla'),('nikola','teslić')]"
   ]
  },
  {
   "cell_type": "code",
   "execution_count": 30,
   "metadata": {},
   "outputs": [],
   "source": [
    "f = lambda x :x"
   ]
  },
  {
   "cell_type": "code",
   "execution_count": 31,
   "metadata": {},
   "outputs": [
    {
     "data": {
      "text/plain": [
       "('nikola', 'teslić')"
      ]
     },
     "execution_count": 31,
     "metadata": {},
     "output_type": "execute_result"
    }
   ],
   "source": [
    "mymax(iterable=list_of_persons,key=f)"
   ]
  }
 ],
 "metadata": {
  "kernelspec": {
   "display_name": "Python 3",
   "language": "python",
   "name": "python3"
  },
  "language_info": {
   "codemirror_mode": {
    "name": "ipython",
    "version": 3
   },
   "file_extension": ".py",
   "mimetype": "text/x-python",
   "name": "python",
   "nbconvert_exporter": "python",
   "pygments_lexer": "ipython3",
   "version": "3.11.5"
  }
 },
 "nbformat": 4,
 "nbformat_minor": 2
}
